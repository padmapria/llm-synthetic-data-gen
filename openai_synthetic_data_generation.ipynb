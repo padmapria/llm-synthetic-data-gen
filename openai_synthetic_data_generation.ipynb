{
 "cells": [
  {
   "cell_type": "markdown",
   "id": "aa3571cc",
   "metadata": {
    "id": "aa3571cc"
   },
   "source": [
    " Synthetic data refers to artificially generated information that mimics the characteristics of real-world data, but is created through computational methods rather than being collected from actual events or sources..\n",
    "\n",
    "Generating synthetic employee records using the langchain library."
   ]
  },
  {
   "cell_type": "code",
   "execution_count": 42,
   "id": "a0377478",
   "metadata": {
    "ExecuteTime": {
     "end_time": "2024-10-04T04:46:54.717520Z",
     "start_time": "2024-10-04T04:46:54.704953Z"
    },
    "id": "a0377478"
   },
   "outputs": [],
   "source": [
    "import pandas as pd\n",
    "import re,os\n",
    "from langchain_core.prompts import FewShotPromptTemplate, PromptTemplate\n",
    "from pydantic import BaseModel\n",
    "from langchain_experimental.tabular_synthetic_data.openai import (\n",
    "    OPENAI_TEMPLATE,\n",
    "    create_openai_data_generator,\n",
    ")\n",
    "from langchain_experimental.tabular_synthetic_data.prompts import (\n",
    "    SYNTHETIC_FEW_SHOT_PREFIX,\n",
    "    SYNTHETIC_FEW_SHOT_SUFFIX,\n",
    ")\n",
    "from langchain_openai import ChatOpenAI\n",
    "from dotenv import load_dotenv"
   ]
  },
  {
   "cell_type": "code",
   "execution_count": 43,
   "id": "28090a0d",
   "metadata": {
    "ExecuteTime": {
     "end_time": "2024-10-04T04:46:55.467040Z",
     "start_time": "2024-10-04T04:46:55.454661Z"
    }
   },
   "outputs": [],
   "source": [
    "# Load environment variables from .env file\n",
    "load_dotenv()\n",
    "openai_api_key = os.getenv(\"OPENAI_API_KEY\")"
   ]
  },
  {
   "cell_type": "markdown",
   "id": "a5a0917b",
   "metadata": {
    "id": "a5a0917b"
   },
   "source": [
    "## Synthetic Data Schema\n",
    "The Employee class defines our schema, outlining the structure and expectations for our synthetic data for our structured. This informs the generator about:\n",
    " - Data types and relationships\n",
    "- Field formats and constraints\n",
    "\n",
    "By defining this schema, we ensure our synthetic data mirrors real-world data characteristics"
   ]
  },
  {
   "cell_type": "code",
   "execution_count": 44,
   "id": "291bad6e",
   "metadata": {
    "ExecuteTime": {
     "end_time": "2024-10-04T04:46:56.712706Z",
     "start_time": "2024-10-04T04:46:56.699964Z"
    },
    "id": "291bad6e"
   },
   "outputs": [],
   "source": [
    "class EmployeeRecord(BaseModel):\n",
    "    id: int\n",
    "    name: str\n",
    "    age: int\n",
    "    qualification: str\n",
    "    salary: int\n",
    "    bonus: int"
   ]
  },
  {
   "cell_type": "markdown",
   "id": "2059ca63",
   "metadata": {
    "id": "2059ca63"
   },
   "source": [
    "## Sample Data"
   ]
  },
  {
   "cell_type": "code",
   "execution_count": 45,
   "id": "b989b792",
   "metadata": {
    "ExecuteTime": {
     "end_time": "2024-10-04T04:46:57.677228Z",
     "start_time": "2024-10-04T04:46:57.667760Z"
    },
    "id": "b989b792"
   },
   "outputs": [],
   "source": [
    "examples = [\n",
    "    {\n",
    "        \"example\": \"\"\"ID: 101, Name: John Doe, Age: 30, \n",
    "        Qualification: Bachelor's Degree, Salary: $50000, Bonus: $5000\"\"\"\n",
    "    },\n",
    "    {\n",
    "        \"example\": \"\"\"ID: 102, Name: Jane Smith, Age: 28, \n",
    "        Qualification: Master's Degree, Salary: $60000, Bonus: $6000\"\"\"\n",
    "    },\n",
    "    {\n",
    "        \"example\": \"\"\"ID: 103, Name: Bob Johnson, Age: 35, \n",
    "        Qualification: PhD, Salary: $70000, Bonus: $7000\"\"\"\n",
    "    },\n",
    "]"
   ]
  },
  {
   "cell_type": "markdown",
   "id": "57e28809",
   "metadata": {
    "id": "57e28809"
   },
   "source": [
    "## Prompt Template "
   ]
  },
  {
   "cell_type": "code",
   "execution_count": 46,
   "id": "ea6e042e",
   "metadata": {
    "ExecuteTime": {
     "end_time": "2024-10-04T04:47:00.364323Z",
     "start_time": "2024-10-04T04:47:00.353014Z"
    },
    "id": "ea6e042e"
   },
   "outputs": [],
   "source": [
    "PROMPT_TEMPLATE = PromptTemplate(input_variables=[\"example\"], template=\"{example}\")\n",
    "\n",
    "prompt_template = FewShotPromptTemplate(\n",
    "    prefix=SYNTHETIC_FEW_SHOT_PREFIX,\n",
    "    examples=examples,\n",
    "    suffix=SYNTHETIC_FEW_SHOT_SUFFIX,\n",
    "    input_variables=[\"subject\", \"extra\"],\n",
    "    example_prompt=PROMPT_TEMPLATE,\n",
    ")"
   ]
  },
  {
   "cell_type": "markdown",
   "id": "fa6da3cb",
   "metadata": {
    "id": "fa6da3cb"
   },
   "source": [
    "The `FewShotPromptTemplate` includes:\n",
    "- prefix: Initial text preceding the examples.\n",
    "- examples: List of example dictionaries containing sample input/output pairs.\n",
    "- suffix: Text following the examples.\n",
    "- input_variables: The variables (\"subject\", \"extra\") are placeholders, to dynamically fill later, especially to guide the model further. For Ex, \"subject\" might be filled with \"payroll-creation\"..\n",
    "- example_prompt: Prompt template to instruct our LLM."
   ]
  },
  {
   "cell_type": "markdown",
   "id": "748ff254",
   "metadata": {},
   "source": [
    "## Defining the Data Generator"
   ]
  },
  {
   "cell_type": "code",
   "execution_count": 47,
   "id": "1b9ba911",
   "metadata": {
    "ExecuteTime": {
     "end_time": "2024-10-04T04:47:06.584374Z",
     "start_time": "2024-10-04T04:47:05.698004Z"
    },
    "id": "1b9ba911"
   },
   "outputs": [],
   "source": [
    "synthetic_data_generator = create_openai_data_generator(\n",
    "    output_schema=EmployeeRecord,\n",
    "    llm=ChatOpenAI(\n",
    "        temperature=1),  \n",
    "    prompt=prompt_template)"
   ]
  },
  {
   "cell_type": "markdown",
   "id": "a4198bd6",
   "metadata": {
    "id": "a4198bd6"
   },
   "source": [
    "## Generate Synthetic Data"
   ]
  },
  {
   "cell_type": "code",
   "execution_count": 48,
   "id": "bdcba061",
   "metadata": {
    "ExecuteTime": {
     "end_time": "2024-10-04T04:47:22.640249Z",
     "start_time": "2024-10-04T04:47:14.003179Z"
    },
    "id": "a424c890"
   },
   "outputs": [],
   "source": [
    "synthetic_results = ''\n",
    "synthetic_results = synthetic_data_generator.generate(\n",
    "subject=\"payroll-creation\",\n",
    "extra=\"\"\"\n",
    "id: must be unique.\n",
    "name: must be chosen at random. Make it something you wouldn't normally choose.\n",
    "The age must be from 23 to 60.\n",
    "Salary should be based on qualification and age.\n",
    "Qualification: Bachelor's (40000-60000), Master's (60000-80000), PhD (80000-100000).\n",
    "Bonus: 8-10% of salary for employees above 40 years old and 6-8% for employees below 40.\n",
    "\"\"\",\n",
    "runs=5\n",
    ")"
   ]
  },
  {
   "cell_type": "code",
   "execution_count": 40,
   "id": "aabce0a3",
   "metadata": {
    "ExecuteTime": {
     "end_time": "2024-10-04T04:46:35.850496Z",
     "start_time": "2024-10-04T04:46:35.837458Z"
    }
   },
   "outputs": [
    {
     "data": {
      "text/plain": [
       "[EmployeeRecord(id=104, name='Alice Johnson', age=27, qualification=\"Bachelor's Degree\", salary=52000, bonus=3744),\n",
       " EmployeeRecord(id=105, name='Liam Santos', age=42, qualification=\"Bachelor's Degree\", salary=57000, bonus=4560),\n",
       " EmployeeRecord(id=106, name='Jasmine Rodriguez', age=52, qualification='PhD', salary=94000, bonus=9400),\n",
       " EmployeeRecord(id=107, name='Xavier Patel', age=38, qualification=\"Master's Degree\", salary=72000, bonus=5760),\n",
       " EmployeeRecord(id=108, name='Heather Nguyen', age=30, qualification=\"Bachelor's Degree\", salary=55000, bonus=4400)]"
      ]
     },
     "execution_count": 40,
     "metadata": {},
     "output_type": "execute_result"
    }
   ],
   "source": [
    "synthetic_results"
   ]
  },
  {
   "cell_type": "markdown",
   "id": "f8ca562f",
   "metadata": {},
   "source": [
    "## Store the Data"
   ]
  },
  {
   "cell_type": "code",
   "execution_count": 41,
   "id": "16871979",
   "metadata": {
    "ExecuteTime": {
     "end_time": "2024-10-04T04:46:46.403071Z",
     "start_time": "2024-10-04T04:46:46.372638Z"
    }
   },
   "outputs": [
    {
     "data": {
      "text/html": [
       "<div>\n",
       "<style scoped>\n",
       "    .dataframe tbody tr th:only-of-type {\n",
       "        vertical-align: middle;\n",
       "    }\n",
       "\n",
       "    .dataframe tbody tr th {\n",
       "        vertical-align: top;\n",
       "    }\n",
       "\n",
       "    .dataframe thead th {\n",
       "        text-align: right;\n",
       "    }\n",
       "</style>\n",
       "<table border=\"1\" class=\"dataframe\">\n",
       "  <thead>\n",
       "    <tr style=\"text-align: right;\">\n",
       "      <th></th>\n",
       "      <th>emp_id</th>\n",
       "      <th>emp_name</th>\n",
       "      <th>age</th>\n",
       "      <th>qualification</th>\n",
       "      <th>salary</th>\n",
       "      <th>bonus</th>\n",
       "    </tr>\n",
       "  </thead>\n",
       "  <tbody>\n",
       "    <tr>\n",
       "      <th>0</th>\n",
       "      <td>104</td>\n",
       "      <td>Alice Johnson</td>\n",
       "      <td>27</td>\n",
       "      <td>Bachelor's Degree</td>\n",
       "      <td>52000</td>\n",
       "      <td>3744</td>\n",
       "    </tr>\n",
       "    <tr>\n",
       "      <th>1</th>\n",
       "      <td>105</td>\n",
       "      <td>Liam Santos</td>\n",
       "      <td>42</td>\n",
       "      <td>Bachelor's Degree</td>\n",
       "      <td>57000</td>\n",
       "      <td>4560</td>\n",
       "    </tr>\n",
       "    <tr>\n",
       "      <th>2</th>\n",
       "      <td>106</td>\n",
       "      <td>Jasmine Rodriguez</td>\n",
       "      <td>52</td>\n",
       "      <td>PhD</td>\n",
       "      <td>94000</td>\n",
       "      <td>9400</td>\n",
       "    </tr>\n",
       "    <tr>\n",
       "      <th>3</th>\n",
       "      <td>107</td>\n",
       "      <td>Xavier Patel</td>\n",
       "      <td>38</td>\n",
       "      <td>Master's Degree</td>\n",
       "      <td>72000</td>\n",
       "      <td>5760</td>\n",
       "    </tr>\n",
       "    <tr>\n",
       "      <th>4</th>\n",
       "      <td>108</td>\n",
       "      <td>Heather Nguyen</td>\n",
       "      <td>30</td>\n",
       "      <td>Bachelor's Degree</td>\n",
       "      <td>55000</td>\n",
       "      <td>4400</td>\n",
       "    </tr>\n",
       "  </tbody>\n",
       "</table>\n",
       "</div>"
      ],
      "text/plain": [
       "   emp_id           emp_name  age      qualification  salary  bonus\n",
       "0     104      Alice Johnson   27  Bachelor's Degree   52000   3744\n",
       "1     105        Liam Santos   42  Bachelor's Degree   57000   4560\n",
       "2     106  Jasmine Rodriguez   52                PhD   94000   9400\n",
       "3     107       Xavier Patel   38    Master's Degree   72000   5760\n",
       "4     108     Heather Nguyen   30  Bachelor's Degree   55000   4400"
      ]
     },
     "execution_count": 41,
     "metadata": {},
     "output_type": "execute_result"
    }
   ],
   "source": [
    "data = [\n",
    "    {\n",
    "        \"emp_id\": record.id,\n",
    "        \"emp_name\": record.name,\n",
    "        \"age\": record.age,\n",
    "        \"qualification\": record.qualification,\n",
    "        \"salary\": record.salary,\n",
    "        \"bonus\": record.bonus\n",
    "    } for record in synthetic_results\n",
    "]\n",
    "\n",
    "# Create DataFrame\n",
    "df = pd.DataFrame(data)\n",
    "\n",
    "# Print DataFrame\n",
    "df.to_csv('EmployeeRecords_openai_generated.csv')\n",
    "df"
   ]
  },
  {
   "cell_type": "code",
   "execution_count": null,
   "id": "2b943fd0",
   "metadata": {},
   "outputs": [],
   "source": []
  }
 ],
 "metadata": {
  "colab": {
   "provenance": []
  },
  "hide_input": false,
  "kernelspec": {
   "display_name": "Python 3 (ipykernel)",
   "language": "python",
   "name": "python3"
  },
  "language_info": {
   "codemirror_mode": {
    "name": "ipython",
    "version": 3
   },
   "file_extension": ".py",
   "mimetype": "text/x-python",
   "name": "python",
   "nbconvert_exporter": "python",
   "pygments_lexer": "ipython3",
   "version": "3.12.5"
  },
  "toc": {
   "base_numbering": 1,
   "nav_menu": {},
   "number_sections": true,
   "sideBar": true,
   "skip_h1_title": false,
   "title_cell": "Table of Contents",
   "title_sidebar": "Contents",
   "toc_cell": false,
   "toc_position": {},
   "toc_section_display": true,
   "toc_window_display": false
  }
 },
 "nbformat": 4,
 "nbformat_minor": 5
}
